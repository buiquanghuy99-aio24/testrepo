{
 "cells": [
  {
   "cell_type": "markdown",
   "id": "ce394495-15f9-4e12-97f7-e4fbca54d6f2",
   "metadata": {},
   "source": [
    "# **Lab 0.1: Thao tác cơ bản với Jupyter Notebook**"
   ]
  },
  {
   "cell_type": "markdown",
   "id": "c5c2d840-36f5-45ae-900a-a17c15254052",
   "metadata": {},
   "source": [
    "**Bài tập 1 - Viết và thực thi code**\n",
    "1. Trong notebook trống mới của bạn (từ Bài tập 1), hãy nhấp vào trong cell màu xám và viết một số code, như 1 + 1. \r\n",
    "2. Thực thi code bằng cách nhấp vào nút Play trong menu phía trên notebook hoặc bằng cách nhấn Shift+Enter trên notebook của bạn. \r\n",
    "3. Bạn sẽ thấy trong đầu ra, 2. \r\n",
    "4. Thử thực thi code khác (thử các phép toán đơn giả).\r\n"
   ]
  },
  {
   "cell_type": "code",
   "execution_count": 1,
   "id": "f07918f2-72ca-403e-a4fa-d81248424b4e",
   "metadata": {},
   "outputs": [
    {
     "data": {
      "text/plain": [
       "2"
      ]
     },
     "execution_count": 1,
     "metadata": {},
     "output_type": "execute_result"
    }
   ],
   "source": [
    "1 + 1"
   ]
  },
  {
   "cell_type": "markdown",
   "id": "bfe5a712-991d-4a39-b23e-028ad1d6f3f9",
   "metadata": {},
   "source": [
    "**Bài tập  2 - Tạo một cell mới**\r\n",
    "1. Trong notebook Jupyter của bạn, trước tiên hãy nhấp vào bất kỳ cell nào hiện có để chọn cell.\r\n",
    "2. Từ menu, nhấp vào Insert, sau đó Insert Cell Above hoặc Insert Cell Below. \r\n",
    "3. Tuyệt vời! Bây giờ bạn đã biết cách chèn các cell mới trong Jupyter Notebook.\r\n"
   ]
  },
  {
   "cell_type": "code",
   "execution_count": null,
   "id": "706376d6-6c3c-4522-97b8-d0371a7670dc",
   "metadata": {},
   "outputs": [],
   "source": []
  },
  {
   "cell_type": "code",
   "execution_count": null,
   "id": "4d20a868-2840-47b8-bd90-5a65ef23b6c2",
   "metadata": {},
   "outputs": [],
   "source": []
  },
  {
   "cell_type": "code",
   "execution_count": null,
   "id": "87b29567-0d3a-4780-99f6-3850ac046c32",
   "metadata": {},
   "outputs": [],
   "source": []
  },
  {
   "cell_type": "markdown",
   "id": "97e2b7e0-1456-425c-873e-c85f74f3bdc7",
   "metadata": {},
   "source": [
    "**Bài tập  3 - Tạo cell Markdown và thêm văn bản**\r\n",
    "\n",
    "Trong notebook của bạn, hãy bấm vào bất kỳ cell code nào và trong menu thả xuống ở menu bên trên, hãy thay đổi loại cell từ Code thành Markdown. Như bạn nhận thấy, bạn không thể tạo cell Markdown mà không tạo cell Code trước và chuyển đổi chúng từ Code thành Markdown.\r\n",
    "Trong cell Markdown, hãy viết một số văn bản, ví dụ My Title.\r\n",
    "Để hiển thị văn bản Markdown, hãy đảm bảo rằng cell được chọn (bằng cách nhấp vào bên trong cell đó) và nhấn Play trong menu hoặc Shift + Enter. Cell Markdown của bạn bây giờ sẽ được hiển thị!\r\n",
    "Để chỉnh sửa ô Markdown của bạn, hãy bấm đúp vào bất kỳ đâu trong cell. Lưu ý rằng bạn có thể sử dụng phím tắt: [m] - Chuyển Cell thành Markdown \r\n"
   ]
  },
  {
   "cell_type": "markdown",
   "id": "9fbd2ff8-cba6-4baa-8e03-1310f705665c",
   "metadata": {},
   "source": [
    "*My Title*"
   ]
  },
  {
   "cell_type": "markdown",
   "id": "6eda36fa-c8d3-4f99-8797-1fb13f24ccf0",
   "metadata": {},
   "source": [
    "**Bài tập  4 - Đổi tên Notebook**\n",
    "1. Trong danh sách notebook ở bảng điều khiển bên trái, nhấp vào File ở trên cùng để mở rộng danh sách tùy chọn. \n",
    "2. Nhấp vào Rename Notebook... để đổi tên mới cho notebook ví dụ My_Notebook.ipynb."
   ]
  },
  {
   "cell_type": "markdown",
   "id": "f6a6f8b7-62dd-4fcf-9911-1551c38d0368",
   "metadata": {},
   "source": [
    "**Bài tập  5 - Lưu và tải xuống Jupyter Notebook vào máy tính của bạn**\n",
    "\n",
    "- Đôi khi bạn có thể muốn tải notebook về máy tính của mình.\n",
    "- Để lưu, nhấp vào nút Save Notebook hoặc nút Save Notebook as trong menu File. \n",
    "Để tải xuống notebook, nhấp vào File và cuộn xuống Download để tải xuống notebook. Bạn cũng có thể nhấp chuột phải vào notebook trong file browser và nhấp vào Download "
   ]
  },
  {
   "cell_type": "markdown",
   "id": "37011e45-9aaa-41c1-8aad-c537529f117b",
   "metadata": {},
   "source": [
    "# **Lab 0.2: Thao tác với Markdown**\n",
    "- Thực hiện mỗi bài tập trên một cell riêng trong Jupyter Notebook.\r",
    "- \n",
    "Dùng Markdown để định dạng nội dung\r\n"
   ]
  },
  {
   "cell_type": "markdown",
   "id": "c0fa98cf-905e-48c4-b104-985003cc1d00",
   "metadata": {},
   "source": [
    "**Bài 1: Tạo tiêu đề và đoạn văn**\n",
    "1. Tạo một tiêu đề \"Markdown Practice\" có kích thước lớn nhất.\n",
    "2. Tạo một đoạn văn bên dưới gồm 2 câu với nội dung tùy chọn.\n",
    "3. Tạo line break (ngắt dòng) giữa 2 câu trong đoạn văn vừa tạo."
   ]
  },
  {
   "cell_type": "markdown",
   "id": "9a5c475f-0f64-44c7-9d6e-c37d8b77be23",
   "metadata": {},
   "source": [
    "# Markdown Practice\n",
    "\n",
    "Đây là một đoạn văn với nội dung tùy chọn\n",
    "\n",
    "Đây là câu thứ hai trong đoạn văn vừa tạo"
   ]
  },
  {
   "cell_type": "markdown",
   "id": "8109f998-00eb-475d-949b-65cd62e30830",
   "metadata": {},
   "source": [
    "**Bài 2: Định dạng văn bản**\n",
    "1. In đậm câu đầu tiên trong đoạn văn của bài tập 1.\n",
    "2. In nghiêng câu thứ hai trong đoạn văn đó.\n",
    "3. Tạo một hyperlink để liên kết từ \"Markdown\" trong tiêu đề với trang web Markdown Guide (https://www.markdownguide.org/)."
   ]
  },
  {
   "cell_type": "markdown",
   "id": "81484bcb-ddca-4df1-a6bc-17895ea31548",
   "metadata": {},
   "source": [
    "# [Markdown](https://www.markdownguide.org/) Practice\n",
    "\n",
    "**Đây là một đoạn văn với nội dung tùy chọn**\n",
    "\n",
    "*Đây là câu thứ hai trong đoạn văn vừa tạo*"
   ]
  },
  {
   "cell_type": "markdown",
   "id": "f4c67a36-d1b0-4292-9f7d-a714d7a4f3c3",
   "metadata": {},
   "source": [
    "**Bài 3: Tạo danh sách**\n",
    "1. Tạo một danh sách có thứ tự với 3 mục liệt kê các bước học AI.\n",
    "2. Tạo một danh sách không có thứ tự với 3 mục liệt kê lợi ích của việc học AI."
   ]
  },
  {
   "cell_type": "markdown",
   "id": "cd1e3059-56a1-4fc5-b928-675242cd532d",
   "metadata": {},
   "source": [
    "1. Học Data Science\n",
    "2. Học Machine Learning\n",
    "3. Học Deep Learning"
   ]
  },
  {
   "cell_type": "markdown",
   "id": "814c73c3-fd77-4423-b45a-55653c8ffc30",
   "metadata": {},
   "source": [
    "- Tăng kiến thức\n",
    "- Tăng trải nghiệm\n",
    "- Tăng lương"
   ]
  },
  {
   "cell_type": "markdown",
   "id": "4166e2bb-ac1f-4c98-a0df-b0663280a6c8",
   "metadata": {},
   "source": [
    "**Bài 4: Chèn hình ảnh**\n",
    "1. Tìm một hình ảnh minh họa cho bài 3 và chèn vào tài liệu Markdown của bạn.\n",
    "2. Thêm mô tả in đậm cho hình ảnh đó. "
   ]
  },
  {
   "cell_type": "markdown",
   "id": "cf69e00f-035d-43a7-92fb-1d64678f1ba7",
   "metadata": {},
   "source": [
    "![Hình ảnh minh họa cho việc học AI](download.jfif)"
   ]
  },
  {
   "cell_type": "markdown",
   "id": "c48a17ad-ffc7-4d07-b946-f335898c4d28",
   "metadata": {},
   "source": [
    "**Bài 5: Sử dụng cú pháp Markdown**\n",
    "1. Tạo một bảng có 3 cột và 3 hàng, điền vào số thứ tự, tác giả, tác phẩm bạn yêu thích.\n",
    "2. Tạo một block quote với một câu trích dẫn yêu thích."
   ]
  },
  {
   "cell_type": "markdown",
   "id": "55e09a71-1182-47a1-9038-0bd2dc80da7b",
   "metadata": {},
   "source": [
    "|STT|Tác giả|Tác phẩm|\n",
    "|---|---|---|\n",
    "|1|Agatha Christie|The ABC murders|\n",
    "|2|Emily Bronte|Wuthering Heights|"
   ]
  },
  {
   "cell_type": "markdown",
   "id": "85915e16-400a-4e4f-be44-70eb1e0a24d3",
   "metadata": {},
   "source": [
    "> \"One of the luckie"
   ]
  }
 ],
 "metadata": {
  "kernelspec": {
   "display_name": "Python 3 (ipykernel)",
   "language": "python",
   "name": "python3"
  },
  "language_info": {
   "codemirror_mode": {
    "name": "ipython",
    "version": 3
   },
   "file_extension": ".py",
   "mimetype": "text/x-python",
   "name": "python",
   "nbconvert_exporter": "python",
   "pygments_lexer": "ipython3",
   "version": "3.11.7"
  }
 },
 "nbformat": 4,
 "nbformat_minor": 5
}
